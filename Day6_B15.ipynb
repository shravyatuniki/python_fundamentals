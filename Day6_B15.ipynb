{
 "cells": [
  {
   "cell_type": "code",
   "execution_count": null,
   "metadata": {},
   "outputs": [],
   "source": [
    "#for loop intro:"
   ]
  },
  {
   "cell_type": "code",
   "execution_count": 1,
   "metadata": {},
   "outputs": [
    {
     "name": "stdout",
     "output_type": "stream",
     "text": [
      "['deepu', 'shaik', 'vishal', 'kavya', 'kumar', 'sonu']\n"
     ]
    }
   ],
   "source": [
    "[names = ['deepu','shaik','vishal','kavya','kumar','sonu']\n",
    "\n",
    "print(names)"
   ]
  },
  {
   "cell_type": "code",
   "execution_count": 3,
   "metadata": {},
   "outputs": [
    {
     "name": "stdout",
     "output_type": "stream",
     "text": [
      "deepu\n",
      "shaik\n",
      "vishal\n",
      "kavya\n",
      "kumar\n",
      "sonu\n"
     ]
    }
   ],
   "source": [
    "for name in names:\n",
    "    print(name)"
   ]
  },
  {
   "cell_type": "code",
   "execution_count": 11,
   "metadata": {},
   "outputs": [
    {
     "name": "stdout",
     "output_type": "stream",
     "text": [
      "good morning, deepu\n",
      "good morning, shaik\n",
      "good morning, vishal\n",
      "good morning, kavya\n",
      "good morning, kumar\n",
      "good morning, sonu\n"
     ]
    }
   ],
   "source": [
    "for name in names:\n",
    "    print(f\"good morning, {name}\")"
   ]
  },
  {
   "cell_type": "code",
   "execution_count": null,
   "metadata": {},
   "outputs": [],
   "source": [
    "#enhancement of the code:"
   ]
  },
  {
   "cell_type": "code",
   "execution_count": 8,
   "metadata": {},
   "outputs": [
    {
     "name": "stdout",
     "output_type": "stream",
     "text": [
      "deepu\n",
      "shaik\n",
      "vishal\n",
      "kavya\n",
      "kumar\n",
      "sonu\n"
     ]
    }
   ],
   "source": [
    "for x in names:\n",
    "    print(x)"
   ]
  },
  {
   "cell_type": "code",
   "execution_count": 10,
   "metadata": {},
   "outputs": [
    {
     "name": "stdout",
     "output_type": "stream",
     "text": [
      "have a nice day, deepu\n",
      "have a nice day, shaik\n",
      "have a nice day, vishal\n",
      "have a nice day, kavya\n",
      "have a nice day, kumar\n",
      "have a nice day, sonu\n"
     ]
    }
   ],
   "source": [
    "for x in names:\n",
    "    print(f\"have a nice day, {x}\")"
   ]
  },
  {
   "cell_type": "code",
   "execution_count": 12,
   "metadata": {},
   "outputs": [
    {
     "name": "stdout",
     "output_type": "stream",
     "text": [
      "good morning,deepu\n",
      "have a nice day,deepu.\n",
      "\n",
      "good morning,shaik\n",
      "have a nice day,shaik.\n",
      "\n",
      "good morning,vishal\n",
      "have a nice day,vishal.\n",
      "\n",
      "good morning,kavya\n",
      "have a nice day,kavya.\n",
      "\n",
      "good morning,kumar\n",
      "have a nice day,kumar.\n",
      "\n",
      "good morning,sonu\n",
      "have a nice day,sonu.\n",
      "\n"
     ]
    }
   ],
   "source": [
    "for x in names:\n",
    "    print(f\"good morning,{x}\")\n",
    "    print(f\"have a nice day,{x}.\\n\")"
   ]
  },
  {
   "cell_type": "code",
   "execution_count": 13,
   "metadata": {},
   "outputs": [
    {
     "name": "stdout",
     "output_type": "stream",
     "text": [
      "good morning,deepu\n",
      "have a nice day,deepu.\n",
      "\n",
      "good morning,shaik\n",
      "have a nice day,shaik.\n",
      "\n",
      "good morning,vishal\n",
      "have a nice day,vishal.\n",
      "\n",
      "good morning,kavya\n",
      "have a nice day,kavya.\n",
      "\n",
      "good morning,kumar\n",
      "have a nice day,kumar.\n",
      "\n",
      "good morning,sonu\n",
      "have a nice day,sonu.\n",
      "\n",
      "see you soon\n"
     ]
    }
   ],
   "source": [
    "for x in names:\n",
    "    print(f\"good morning,{x}\")\n",
    "    print(f\"have a nice day,{x}.\\n\")\n",
    "print(f\"see you soon\")"
   ]
  },
  {
   "cell_type": "code",
   "execution_count": null,
   "metadata": {},
   "outputs": [],
   "source": [
    "#making a numerical list: 1-50"
   ]
  },
  {
   "cell_type": "code",
   "execution_count": 17,
   "metadata": {},
   "outputs": [
    {
     "name": "stdout",
     "output_type": "stream",
     "text": [
      "1\n",
      "2\n",
      "3\n",
      "4\n",
      "5\n",
      "6\n",
      "7\n",
      "8\n",
      "9\n",
      "10\n",
      "11\n",
      "12\n",
      "13\n",
      "14\n",
      "15\n",
      "16\n",
      "17\n",
      "18\n",
      "19\n",
      "20\n",
      "21\n",
      "22\n",
      "23\n",
      "24\n",
      "25\n",
      "26\n",
      "27\n",
      "28\n",
      "29\n",
      "30\n",
      "31\n",
      "32\n",
      "33\n",
      "34\n",
      "35\n",
      "36\n",
      "37\n",
      "38\n",
      "39\n",
      "40\n",
      "41\n",
      "42\n",
      "43\n",
      "44\n",
      "45\n",
      "46\n",
      "47\n",
      "48\n",
      "49\n"
     ]
    }
   ],
   "source": [
    "for value in range(1,50):\n",
    "    print(value)"
   ]
  },
  {
   "cell_type": "code",
   "execution_count": null,
   "metadata": {},
   "outputs": [],
   "source": [
    "fp"
   ]
  },
  {
   "cell_type": "code",
   "execution_count": null,
   "metadata": {},
   "outputs": [],
   "source": []
  },
  {
   "cell_type": "code",
   "execution_count": null,
   "metadata": {},
   "outputs": [],
   "source": []
  }
 ],
 "metadata": {
  "kernelspec": {
   "display_name": "Python 3",
   "language": "python",
   "name": "python3"
  },
  "language_info": {
   "codemirror_mode": {
    "name": "ipython",
    "version": 3
   },
   "file_extension": ".py",
   "mimetype": "text/x-python",
   "name": "python",
   "nbconvert_exporter": "python",
   "pygments_lexer": "ipython3",
   "version": "3.7.6"
  }
 },
 "nbformat": 4,
 "nbformat_minor": 4
}
